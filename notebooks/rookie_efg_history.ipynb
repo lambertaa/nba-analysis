{
 "cells": [
  {
   "cell_type": "code",
   "execution_count": 1,
   "metadata": {},
   "outputs": [],
   "source": [
    "import sys\n",
    "sys.path.append('D:/Andy/python/nba-analysis/data_retrieval')\n",
    "from player_season import PlayerSeasonRequester"
   ]
  },
  {
   "cell_type": "code",
   "execution_count": 4,
   "metadata": {},
   "outputs": [
    {
     "name": "stdout",
     "output_type": "stream",
     "text": [
      "2010-11\n",
      "2011-12\n",
      "2012-13\n",
      "2013-14\n",
      "2014-15\n",
      "2015-16\n",
      "2016-17\n",
      "2017-18\n",
      "2018-19\n",
      "2019-20\n",
      "2020-21\n",
      "2021-22\n",
      "2022-23\n",
      "2023-24\n"
     ]
    }
   ],
   "source": [
    "params = {'PlayerExperience': 'Rookie', 'MeasureType': 'Advanced'}\n",
    "Requester = PlayerSeasonRequester()\n",
    "df_dict = {}\n",
    "for year in range(2010, 2024):\n",
    "    start_year = str(year)\n",
    "    end_year = str(year + 1)[-2:]\n",
    "    season_id = f'{start_year}-{end_year}'\n",
    "    Requester.populate_season(season_id=season_id, **params)\n",
    "    print(season_id)\n",
    "    df_dict[season_id] = Requester.df"
   ]
  },
  {
   "cell_type": "code",
   "execution_count": 6,
   "metadata": {},
   "outputs": [],
   "source": [
    "import pandas as pd\n",
    "df_all = pd.concat(df_dict)"
   ]
  },
  {
   "cell_type": "code",
   "execution_count": 15,
   "metadata": {},
   "outputs": [],
   "source": [
    "test = df_all.loc[(df_all.GP >= 15) & (df_all.FGA_PG >= 8)][['PLAYER_NAME','EFG_PCT']].sort_values('EFG_PCT').reset_index()"
   ]
  },
  {
   "cell_type": "code",
   "execution_count": 14,
   "metadata": {},
   "outputs": [
    {
     "data": {
      "text/html": [
       "<div>\n",
       "<style scoped>\n",
       "    .dataframe tbody tr th:only-of-type {\n",
       "        vertical-align: middle;\n",
       "    }\n",
       "\n",
       "    .dataframe tbody tr th {\n",
       "        vertical-align: top;\n",
       "    }\n",
       "\n",
       "    .dataframe thead th {\n",
       "        text-align: right;\n",
       "    }\n",
       "</style>\n",
       "<table border=\"1\" class=\"dataframe\">\n",
       "  <thead>\n",
       "    <tr style=\"text-align: right;\">\n",
       "      <th></th>\n",
       "      <th>level_0</th>\n",
       "      <th>level_1</th>\n",
       "      <th>PLAYER_NAME</th>\n",
       "      <th>EFG_PCT</th>\n",
       "    </tr>\n",
       "  </thead>\n",
       "  <tbody>\n",
       "    <tr>\n",
       "      <th>13</th>\n",
       "      <td>2011-12</td>\n",
       "      <td>69</td>\n",
       "      <td>Ricky Rubio</td>\n",
       "      <td>0.398</td>\n",
       "    </tr>\n",
       "    <tr>\n",
       "      <th>111</th>\n",
       "      <td>2021-22</td>\n",
       "      <td>51</td>\n",
       "      <td>Jalen Suggs</td>\n",
       "      <td>0.400</td>\n",
       "    </tr>\n",
       "    <tr>\n",
       "      <th>34</th>\n",
       "      <td>2015-16</td>\n",
       "      <td>23</td>\n",
       "      <td>Emmanuel Mudiay</td>\n",
       "      <td>0.404</td>\n",
       "    </tr>\n",
       "    <tr>\n",
       "      <th>81</th>\n",
       "      <td>2019-20</td>\n",
       "      <td>50</td>\n",
       "      <td>Jordan Poole</td>\n",
       "      <td>0.406</td>\n",
       "    </tr>\n",
       "    <tr>\n",
       "      <th>9</th>\n",
       "      <td>2011-12</td>\n",
       "      <td>52</td>\n",
       "      <td>Kemba Walker</td>\n",
       "      <td>0.411</td>\n",
       "    </tr>\n",
       "    <tr>\n",
       "      <th>...</th>\n",
       "      <td>...</td>\n",
       "      <td>...</td>\n",
       "      <td>...</td>\n",
       "      <td>...</td>\n",
       "    </tr>\n",
       "    <tr>\n",
       "      <th>129</th>\n",
       "      <td>2023-24</td>\n",
       "      <td>32</td>\n",
       "      <td>Jaime Jaquez Jr.</td>\n",
       "      <td>0.584</td>\n",
       "    </tr>\n",
       "    <tr>\n",
       "      <th>64</th>\n",
       "      <td>2018-19</td>\n",
       "      <td>22</td>\n",
       "      <td>Deandre Ayton</td>\n",
       "      <td>0.585</td>\n",
       "    </tr>\n",
       "    <tr>\n",
       "      <th>128</th>\n",
       "      <td>2023-24</td>\n",
       "      <td>13</td>\n",
       "      <td>Chet Holmgren</td>\n",
       "      <td>0.588</td>\n",
       "    </tr>\n",
       "    <tr>\n",
       "      <th>89</th>\n",
       "      <td>2019-20</td>\n",
       "      <td>116</td>\n",
       "      <td>Zion Williamson</td>\n",
       "      <td>0.592</td>\n",
       "    </tr>\n",
       "    <tr>\n",
       "      <th>73</th>\n",
       "      <td>2019-20</td>\n",
       "      <td>6</td>\n",
       "      <td>Brandon Clarke</td>\n",
       "      <td>0.642</td>\n",
       "    </tr>\n",
       "  </tbody>\n",
       "</table>\n",
       "<p>133 rows × 4 columns</p>\n",
       "</div>"
      ],
      "text/plain": [
       "     level_0  level_1       PLAYER_NAME  EFG_PCT\n",
       "13   2011-12       69       Ricky Rubio    0.398\n",
       "111  2021-22       51       Jalen Suggs    0.400\n",
       "34   2015-16       23   Emmanuel Mudiay    0.404\n",
       "81   2019-20       50      Jordan Poole    0.406\n",
       "9    2011-12       52      Kemba Walker    0.411\n",
       "..       ...      ...               ...      ...\n",
       "129  2023-24       32  Jaime Jaquez Jr.    0.584\n",
       "64   2018-19       22     Deandre Ayton    0.585\n",
       "128  2023-24       13     Chet Holmgren    0.588\n",
       "89   2019-20      116   Zion Williamson    0.592\n",
       "73   2019-20        6    Brandon Clarke    0.642\n",
       "\n",
       "[133 rows x 4 columns]"
      ]
     },
     "execution_count": 14,
     "metadata": {},
     "output_type": "execute_result"
    }
   ],
   "source": [
    "test.sort_values('EFG_PCT')"
   ]
  },
  {
   "cell_type": "code",
   "execution_count": 10,
   "metadata": {},
   "outputs": [
    {
     "data": {
      "text/plain": [
       "Index(['PLAYER_ID', 'PLAYER_NAME', 'NICKNAME', 'TEAM_ID', 'TEAM_ABBREVIATION',\n",
       "       'AGE', 'GP', 'W', 'L', 'W_PCT', 'MIN', 'E_OFF_RATING', 'OFF_RATING',\n",
       "       'sp_work_OFF_RATING', 'E_DEF_RATING', 'DEF_RATING',\n",
       "       'sp_work_DEF_RATING', 'E_NET_RATING', 'NET_RATING',\n",
       "       'sp_work_NET_RATING', 'AST_PCT', 'AST_TO', 'AST_RATIO', 'OREB_PCT',\n",
       "       'DREB_PCT', 'REB_PCT', 'TM_TOV_PCT', 'E_TOV_PCT', 'EFG_PCT', 'TS_PCT',\n",
       "       'USG_PCT', 'E_USG_PCT', 'E_PACE', 'PACE', 'PACE_PER40', 'sp_work_PACE',\n",
       "       'PIE', 'POSS', 'FGM', 'FGA', 'FGM_PG', 'FGA_PG', 'FG_PCT', 'GP_RANK',\n",
       "       'W_RANK', 'L_RANK', 'W_PCT_RANK', 'MIN_RANK', 'E_OFF_RATING_RANK',\n",
       "       'OFF_RATING_RANK', 'sp_work_OFF_RATING_RANK', 'E_DEF_RATING_RANK',\n",
       "       'DEF_RATING_RANK', 'sp_work_DEF_RATING_RANK', 'E_NET_RATING_RANK',\n",
       "       'NET_RATING_RANK', 'sp_work_NET_RATING_RANK', 'AST_PCT_RANK',\n",
       "       'AST_TO_RANK', 'AST_RATIO_RANK', 'OREB_PCT_RANK', 'DREB_PCT_RANK',\n",
       "       'REB_PCT_RANK', 'TM_TOV_PCT_RANK', 'E_TOV_PCT_RANK', 'EFG_PCT_RANK',\n",
       "       'TS_PCT_RANK', 'USG_PCT_RANK', 'E_USG_PCT_RANK', 'E_PACE_RANK',\n",
       "       'PACE_RANK', 'sp_work_PACE_RANK', 'PIE_RANK', 'FGM_RANK', 'FGA_RANK',\n",
       "       'FGM_PG_RANK', 'FGA_PG_RANK', 'FG_PCT_RANK'],\n",
       "      dtype='object')"
      ]
     },
     "execution_count": 10,
     "metadata": {},
     "output_type": "execute_result"
    }
   ],
   "source": [
    "test.columns"
   ]
  }
 ],
 "metadata": {
  "kernelspec": {
   "display_name": "nba-stats",
   "language": "python",
   "name": "python3"
  },
  "language_info": {
   "codemirror_mode": {
    "name": "ipython",
    "version": 3
   },
   "file_extension": ".py",
   "mimetype": "text/x-python",
   "name": "python",
   "nbconvert_exporter": "python",
   "pygments_lexer": "ipython3",
   "version": "3.9.17"
  }
 },
 "nbformat": 4,
 "nbformat_minor": 2
}
