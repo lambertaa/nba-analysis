{
 "cells": [
  {
   "cell_type": "code",
   "execution_count": null,
   "metadata": {},
   "outputs": [],
   "source": [
    "# from bs4 import BeautifulSoup\n",
    "# import requests\n",
    "# import pandas as pd"
   ]
  },
  {
   "cell_type": "code",
   "execution_count": 5,
   "metadata": {},
   "outputs": [],
   "source": [
    "import sys\n",
    "sys.path.append('D:/Andy/python/nba-analysis/data_retrieval')\n",
    "from realgm_retr import get_realgm_allstar_rosters"
   ]
  },
  {
   "cell_type": "code",
   "execution_count": 6,
   "metadata": {},
   "outputs": [],
   "source": [
    "years = list(range(1951, 2026))\n",
    "df = get_realgm_allstar_rosters(years)"
   ]
  },
  {
   "cell_type": "code",
   "execution_count": 9,
   "metadata": {},
   "outputs": [],
   "source": [
    "# from IPython.display import clear_output\n",
    "# base_url = 'https://basketball.realgm.com/nba/allstar/game/rosters'\n",
    "\n",
    "# years = list(range(1951, 2026))\n",
    "\n",
    "# all_years_df_list = []\n",
    "# for year in years:  \n",
    "#     clear_output(wait=True)    \n",
    "#     # Send a GET request to the page URL\n",
    "#     response = requests.get(f'{base_url}/{year}')\n",
    "\n",
    "#     if response.status_code == 200:\n",
    "#         # Parse the HTML content using BeautifulSoup\n",
    "#         soup = BeautifulSoup(response.content, \"html.parser\")\n",
    "#         tables = soup.find_all('table', class_='basketball compact')\n",
    "\n",
    "#         year_df_list = []\n",
    "#         for table in tables:\n",
    "#             year_df_list.append(pd.read_html(str(table))[0])\n",
    "\n",
    "#         tmp_df = pd.concat(year_df_list).reset_index(drop=True)\n",
    "#         tmp_df['year'] = year\n",
    "#         tmp_df['season'] = f'{year - 1}-{year}'\n",
    "\n",
    "#         all_years_df_list.append(tmp_df)\n",
    "#     # break\n",
    "#     print(f'Completed {year}')"
   ]
  },
  {
   "cell_type": "code",
   "execution_count": 8,
   "metadata": {},
   "outputs": [],
   "source": [
    "df.to_csv('../data/nba_allstar_all_20250528.csv')"
   ]
  }
 ],
 "metadata": {
  "kernelspec": {
   "display_name": ".venv",
   "language": "python",
   "name": "python3"
  },
  "language_info": {
   "codemirror_mode": {
    "name": "ipython",
    "version": 3
   },
   "file_extension": ".py",
   "mimetype": "text/x-python",
   "name": "python",
   "nbconvert_exporter": "python",
   "pygments_lexer": "ipython3",
   "version": "3.13.2"
  },
  "orig_nbformat": 4
 },
 "nbformat": 4,
 "nbformat_minor": 2
}
