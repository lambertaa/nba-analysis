{
 "cells": [
  {
   "cell_type": "code",
   "execution_count": 1,
   "metadata": {},
   "outputs": [],
   "source": [
    "from bs4 import BeautifulSoup\n",
    "import requests\n",
    "import pandas as pd"
   ]
  },
  {
   "cell_type": "code",
   "execution_count": 23,
   "metadata": {},
   "outputs": [
    {
     "name": "stdout",
     "output_type": "stream",
     "text": [
      "Completed 2023\n"
     ]
    }
   ],
   "source": [
    "from IPython.display import clear_output\n",
    "base_url = 'https://basketball.realgm.com/nba/allstar/game/rosters'\n",
    "\n",
    "years = list(range(1951, 2024))\n",
    "\n",
    "all_years_df_list = []\n",
    "for year in years:  \n",
    "    clear_output(wait=True)    \n",
    "    # Send a GET request to the page URL\n",
    "    response = requests.get(f'{base_url}/{year}')\n",
    "\n",
    "    if response.status_code == 200:\n",
    "        # Parse the HTML content using BeautifulSoup\n",
    "        soup = BeautifulSoup(response.content, \"html.parser\")\n",
    "        tables = soup.find_all('table', class_='basketball compact')\n",
    "\n",
    "        year_df_list = []\n",
    "        for table in tables:\n",
    "            year_df_list.append(pd.read_html(str(table))[0])\n",
    "\n",
    "        tmp_df = pd.concat(year_df_list).reset_index(drop=True)\n",
    "        tmp_df['year'] = year\n",
    "        tmp_df['season'] = f'{year - 1}-{year}'\n",
    "\n",
    "        all_years_df_list.append(tmp_df)\n",
    "    # break\n",
    "    print(f'Completed {year}')"
   ]
  },
  {
   "cell_type": "code",
   "execution_count": 24,
   "metadata": {},
   "outputs": [],
   "source": [
    "df = pd.concat(all_years_df_list).reset_index(drop=True)"
   ]
  },
  {
   "cell_type": "code",
   "execution_count": 25,
   "metadata": {},
   "outputs": [],
   "source": [
    "df.to_csv('./data/nba_allstar_all.csv')"
   ]
  }
 ],
 "metadata": {
  "kernelspec": {
   "display_name": "nba-stats",
   "language": "python",
   "name": "python3"
  },
  "language_info": {
   "codemirror_mode": {
    "name": "ipython",
    "version": 3
   },
   "file_extension": ".py",
   "mimetype": "text/x-python",
   "name": "python",
   "nbconvert_exporter": "python",
   "pygments_lexer": "ipython3",
   "version": "3.9.13"
  },
  "orig_nbformat": 4
 },
 "nbformat": 4,
 "nbformat_minor": 2
}
