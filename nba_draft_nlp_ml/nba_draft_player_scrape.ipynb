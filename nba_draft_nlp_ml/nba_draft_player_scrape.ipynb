{
 "cells": [
  {
   "cell_type": "code",
   "execution_count": 2,
   "metadata": {},
   "outputs": [],
   "source": [
    "from bs4 import BeautifulSoup\n",
    "import requests\n",
    "import pandas as pd"
   ]
  },
  {
   "attachments": {},
   "cell_type": "markdown",
   "metadata": {},
   "source": [
    "Get player links"
   ]
  },
  {
   "cell_type": "code",
   "execution_count": 32,
   "metadata": {},
   "outputs": [
    {
     "name": "stdout",
     "output_type": "stream",
     "text": [
      "Found 4 player links in https://www.nbadraft.net/players/page/365/\n"
     ]
    }
   ],
   "source": [
    "from IPython.display import clear_output\n",
    "base_url = 'https://www.nbadraft.net/players/'\n",
    "\n",
    "player_links = []\n",
    "\n",
    "for page_num in range(1, 366):\n",
    "    if page_num == 1:\n",
    "        page_url = base_url\n",
    "    else:\n",
    "        page_url = f'{base_url}page/{page_num}/'\n",
    "    \n",
    "    # Send a GET request to the page URL\n",
    "    response = requests.get(page_url)\n",
    "    \n",
    "    if response.status_code == 200:\n",
    "        # Parse the HTML content using BeautifulSoup\n",
    "        soup = BeautifulSoup(response.content, \"html.parser\")\n",
    "        \n",
    "        # parent div containing all player links\n",
    "        parent_div = soup.find('div', class_='wf-container')\n",
    "\n",
    "        # Find all the player links on the page\n",
    "        links = parent_div.find_all('a')\n",
    "        \n",
    "        # extract href attribute and append to player_links\n",
    "        n = 0\n",
    "        for link in links:\n",
    "            link = link['href']\n",
    "            if base_url in link:\n",
    "                player_links.append(link)\n",
    "                n += 1\n",
    "        clear_output(wait=True)\n",
    "        print(f'Found {n} player links in {page_url}')"
   ]
  },
  {
   "attachments": {},
   "cell_type": "markdown",
   "metadata": {},
   "source": [
    "Save as a txt file because that took a while and we don't want to do it again"
   ]
  },
  {
   "cell_type": "code",
   "execution_count": 1,
   "metadata": {},
   "outputs": [],
   "source": [
    "# with open('./data/nbadraft_player_links.txt', 'w') as file:\n",
    "#     for link in player_links:\n",
    "#         file.write(link + \"\\n\")"
   ]
  },
  {
   "attachments": {},
   "cell_type": "markdown",
   "metadata": {},
   "source": [
    "Scrape player links for strengths/weaknesses"
   ]
  },
  {
   "cell_type": "code",
   "execution_count": 4,
   "metadata": {},
   "outputs": [],
   "source": [
    "import numpy as np\n",
    "f_links = './data/nbadraft_player_links.txt'\n",
    "\n",
    "with open(f_links, 'r') as file:\n",
    "    player_links = file.readlines()\n",
    "\n",
    "player_links = [link.strip() for link in player_links]"
   ]
  },
  {
   "cell_type": "code",
   "execution_count": 8,
   "metadata": {},
   "outputs": [],
   "source": [
    "# for some reason we have duplciates - only get unique\n",
    "import numpy as np\n",
    "player_links = list(np.unique(player_links))"
   ]
  },
  {
   "cell_type": "code",
   "execution_count": 38,
   "metadata": {},
   "outputs": [
    {
     "name": "stdout",
     "output_type": "stream",
     "text": [
      "Sucess! Scraped strengths/weaknesses for ziga-samar\n"
     ]
    }
   ],
   "source": [
    "from IPython.display import clear_output\n",
    "\n",
    "data = []\n",
    "\n",
    "for player_link in player_links:\n",
    "    clear_output(wait=True)\n",
    "    # player_link = 'https://www.nbadraft.net/players/amen-thompson/'\n",
    "    player_name = player_link.rsplit('/',2)[-2]\n",
    "    # player_name = player_name.replace('-', ' ')\n",
    "    response = requests.get(player_link)\n",
    "\n",
    "    if response.status_code == 200:\n",
    "        # Parse the HTML content using BeautifulSoup\n",
    "        soup = BeautifulSoup(response.content, \"html.parser\")\n",
    "        \n",
    "        # Find the paragraph elements starting with 'Strengths' and 'Weaknesses'\n",
    "        try:\n",
    "            strengths_paragraph = soup.find(\"strong\", text=\"Strengths:\").parent\n",
    "            weaknesses_paragraph = soup.find(\"strong\", text=\"Weaknesses:\").parent\n",
    "            year = soup.find('div',class_='col3').find('span', class_='label').text[:4]\n",
    "        except AttributeError:\n",
    "            continue\n",
    "        \n",
    "        # Extract the text content\n",
    "        strengths_text = strengths_paragraph.text.replace(\"Strengths: \", \"\").strip()\n",
    "        weaknesses_text = weaknesses_paragraph.text.replace(\"Weaknesses: \", \"\").strip()\n",
    "        \n",
    "        # Append the data to the list\n",
    "        data.append({\n",
    "            \"player\": player_name,\n",
    "            'draft_year': year,\n",
    "            \"strengths\": strengths_text,\n",
    "            \"weaknesses\": weaknesses_text\n",
    "        })\n",
    "        print(f'Success! Scraped strengths/weaknesses for {player_name}')\n",
    "    else:\n",
    "        print(f\"Failed to scrape data for {player_name}. Status code: {response.status_code}\")\n",
    "    # break\n",
    "\n",
    "# Create a pandas dataframe from the scraped data\n",
    "df = pd.DataFrame(data)"
   ]
  },
  {
   "cell_type": "code",
   "execution_count": 40,
   "metadata": {},
   "outputs": [],
   "source": [
    "df.to_csv('./data/nbadraft_strengths_weaknesses.csv')"
   ]
  },
  {
   "cell_type": "code",
   "execution_count": 39,
   "metadata": {},
   "outputs": [
    {
     "data": {
      "text/html": [
       "<div>\n",
       "<style scoped>\n",
       "    .dataframe tbody tr th:only-of-type {\n",
       "        vertical-align: middle;\n",
       "    }\n",
       "\n",
       "    .dataframe tbody tr th {\n",
       "        vertical-align: top;\n",
       "    }\n",
       "\n",
       "    .dataframe thead th {\n",
       "        text-align: right;\n",
       "    }\n",
       "</style>\n",
       "<table border=\"1\" class=\"dataframe\">\n",
       "  <thead>\n",
       "    <tr style=\"text-align: right;\">\n",
       "      <th></th>\n",
       "      <th>player</th>\n",
       "      <th>draft_year</th>\n",
       "      <th>strengths</th>\n",
       "      <th>weaknesses</th>\n",
       "    </tr>\n",
       "  </thead>\n",
       "  <tbody>\n",
       "    <tr>\n",
       "      <th>0</th>\n",
       "      <td>aaron-bradshaw</td>\n",
       "      <td>2024</td>\n",
       "      <td>7’0 center … Good size and length … Athletic w...</td>\n",
       "      <td>Has much room to get stronger in both upper an...</td>\n",
       "    </tr>\n",
       "    <tr>\n",
       "      <th>1</th>\n",
       "      <td>aaron-gordon</td>\n",
       "      <td>2014</td>\n",
       "      <td>A freakish athlete with incredible explosivene...</td>\n",
       "      <td>Gordon’s main weaknesses revolve around his la...</td>\n",
       "    </tr>\n",
       "    <tr>\n",
       "      <th>2</th>\n",
       "      <td>aaron-gray</td>\n",
       "      <td>Over</td>\n",
       "      <td>Unlike many post players Gray doesnt put the b...</td>\n",
       "      <td>Athletically Gray is not exceptionally quick o...</td>\n",
       "    </tr>\n",
       "    <tr>\n",
       "      <th>3</th>\n",
       "      <td>aaron-harrison</td>\n",
       "      <td>Big</td>\n",
       "      <td>Strengths: Leading scorer of a loaded 2015 Ken...</td>\n",
       "      <td>Weaknesses: Really struggled with consistency ...</td>\n",
       "    </tr>\n",
       "    <tr>\n",
       "      <th>4</th>\n",
       "      <td>aaron-henry</td>\n",
       "      <td>Big</td>\n",
       "      <td>Entering Tom Izzo’s storied program as a three...</td>\n",
       "      <td>Despite his high scoring average, Henry was in...</td>\n",
       "    </tr>\n",
       "    <tr>\n",
       "      <th>...</th>\n",
       "      <td>...</td>\n",
       "      <td>...</td>\n",
       "      <td>...</td>\n",
       "      <td>...</td>\n",
       "    </tr>\n",
       "    <tr>\n",
       "      <th>732</th>\n",
       "      <td>zhaire-smith</td>\n",
       "      <td>2018</td>\n",
       "      <td>Has an underrated feel for the game … High bas...</td>\n",
       "      <td>As promising as he is, he’s still a project of...</td>\n",
       "    </tr>\n",
       "    <tr>\n",
       "      <th>733</th>\n",
       "      <td>zhang-songtao</td>\n",
       "      <td>Over</td>\n",
       "      <td>Very coordinated big man with solid footwork …...</td>\n",
       "      <td>Release on his shot is rather slow … Jumps pre...</td>\n",
       "    </tr>\n",
       "    <tr>\n",
       "      <th>734</th>\n",
       "      <td>zhou-qi</td>\n",
       "      <td>2016</td>\n",
       "      <td>Center prospect with great size, length and mo...</td>\n",
       "      <td>Lacks overall strength and weight to be effect...</td>\n",
       "    </tr>\n",
       "    <tr>\n",
       "      <th>735</th>\n",
       "      <td>ziaire-williams</td>\n",
       "      <td>2021</td>\n",
       "      <td>High level athlete who uses his size and verti...</td>\n",
       "      <td>Williams struggled to stay on the court for th...</td>\n",
       "    </tr>\n",
       "    <tr>\n",
       "      <th>736</th>\n",
       "      <td>ziga-samar</td>\n",
       "      <td>Big</td>\n",
       "      <td>Crafty point guard, who plays the game at his ...</td>\n",
       "      <td>Has some ups and downs… Average athlete… Narro...</td>\n",
       "    </tr>\n",
       "  </tbody>\n",
       "</table>\n",
       "<p>737 rows × 4 columns</p>\n",
       "</div>"
      ],
      "text/plain": [
       "              player draft_year  \\\n",
       "0     aaron-bradshaw       2024   \n",
       "1       aaron-gordon       2014   \n",
       "2         aaron-gray       Over   \n",
       "3     aaron-harrison       Big    \n",
       "4        aaron-henry       Big    \n",
       "..               ...        ...   \n",
       "732     zhaire-smith       2018   \n",
       "733    zhang-songtao       Over   \n",
       "734          zhou-qi       2016   \n",
       "735  ziaire-williams       2021   \n",
       "736       ziga-samar       Big    \n",
       "\n",
       "                                             strengths  \\\n",
       "0    7’0 center … Good size and length … Athletic w...   \n",
       "1    A freakish athlete with incredible explosivene...   \n",
       "2    Unlike many post players Gray doesnt put the b...   \n",
       "3    Strengths: Leading scorer of a loaded 2015 Ken...   \n",
       "4    Entering Tom Izzo’s storied program as a three...   \n",
       "..                                                 ...   \n",
       "732  Has an underrated feel for the game … High bas...   \n",
       "733  Very coordinated big man with solid footwork …...   \n",
       "734  Center prospect with great size, length and mo...   \n",
       "735  High level athlete who uses his size and verti...   \n",
       "736  Crafty point guard, who plays the game at his ...   \n",
       "\n",
       "                                            weaknesses  \n",
       "0    Has much room to get stronger in both upper an...  \n",
       "1    Gordon’s main weaknesses revolve around his la...  \n",
       "2    Athletically Gray is not exceptionally quick o...  \n",
       "3    Weaknesses: Really struggled with consistency ...  \n",
       "4    Despite his high scoring average, Henry was in...  \n",
       "..                                                 ...  \n",
       "732  As promising as he is, he’s still a project of...  \n",
       "733  Release on his shot is rather slow … Jumps pre...  \n",
       "734  Lacks overall strength and weight to be effect...  \n",
       "735  Williams struggled to stay on the court for th...  \n",
       "736  Has some ups and downs… Average athlete… Narro...  \n",
       "\n",
       "[737 rows x 4 columns]"
      ]
     },
     "execution_count": 39,
     "metadata": {},
     "output_type": "execute_result"
    }
   ],
   "source": [
    "df"
   ]
  },
  {
   "cell_type": "code",
   "execution_count": 23,
   "metadata": {},
   "outputs": [
    {
     "data": {
      "text/plain": [
       "'1253982'"
      ]
     },
     "execution_count": 23,
     "metadata": {},
     "output_type": "execute_result"
    }
   ],
   "source": [
    "player_links[0].rsplit('/',2)[-2]"
   ]
  },
  {
   "cell_type": "code",
   "execution_count": 25,
   "metadata": {},
   "outputs": [
    {
     "data": {
      "text/html": [
       "<div>\n",
       "<style scoped>\n",
       "    .dataframe tbody tr th:only-of-type {\n",
       "        vertical-align: middle;\n",
       "    }\n",
       "\n",
       "    .dataframe tbody tr th {\n",
       "        vertical-align: top;\n",
       "    }\n",
       "\n",
       "    .dataframe thead th {\n",
       "        text-align: right;\n",
       "    }\n",
       "</style>\n",
       "<table border=\"1\" class=\"dataframe\">\n",
       "  <thead>\n",
       "    <tr style=\"text-align: right;\">\n",
       "      <th></th>\n",
       "      <th>Player</th>\n",
       "      <th>Strengths</th>\n",
       "      <th>Weaknesses</th>\n",
       "    </tr>\n",
       "  </thead>\n",
       "  <tbody>\n",
       "    <tr>\n",
       "      <th>0</th>\n",
       "      <td>amen-thompson</td>\n",
       "      <td>Thompson is a 6’7 210 perimeter player who is ...</td>\n",
       "      <td>Jump shot is a big concern currently (25 3FG%)...</td>\n",
       "    </tr>\n",
       "  </tbody>\n",
       "</table>\n",
       "</div>"
      ],
      "text/plain": [
       "          Player                                          Strengths  \\\n",
       "0  amen-thompson  Thompson is a 6’7 210 perimeter player who is ...   \n",
       "\n",
       "                                          Weaknesses  \n",
       "0  Jump shot is a big concern currently (25 3FG%)...  "
      ]
     },
     "execution_count": 25,
     "metadata": {},
     "output_type": "execute_result"
    }
   ],
   "source": [
    "df"
   ]
  },
  {
   "cell_type": "code",
   "execution_count": 3,
   "metadata": {},
   "outputs": [],
   "source": [
    "import pandas as pd\n",
    "from sklearn.model_selection import train_test_split\n",
    "from sklearn.feature_extraction.text import TfidfVectorizer\n",
    "from sklearn.linear_model import LogisticRegression\n",
    "from sklearn.metrics import classification_report"
   ]
  },
  {
   "cell_type": "code",
   "execution_count": 14,
   "metadata": {},
   "outputs": [
    {
     "data": {
      "text/plain": [
       "'https://www.nbadraft.net/players/zvonimir-ivisic/'"
      ]
     },
     "execution_count": 14,
     "metadata": {},
     "output_type": "execute_result"
    }
   ],
   "source": [
    "links[0]['href']"
   ]
  },
  {
   "cell_type": "code",
   "execution_count": null,
   "metadata": {},
   "outputs": [],
   "source": []
  }
 ],
 "metadata": {
  "kernelspec": {
   "display_name": "nba-stats",
   "language": "python",
   "name": "python3"
  },
  "language_info": {
   "codemirror_mode": {
    "name": "ipython",
    "version": 3
   },
   "file_extension": ".py",
   "mimetype": "text/x-python",
   "name": "python",
   "nbconvert_exporter": "python",
   "pygments_lexer": "ipython3",
   "version": "3.9.13"
  },
  "orig_nbformat": 4
 },
 "nbformat": 4,
 "nbformat_minor": 2
}
