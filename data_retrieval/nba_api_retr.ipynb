{
 "cells": [
  {
   "cell_type": "code",
   "execution_count": 2,
   "metadata": {},
   "outputs": [],
   "source": [
    "import requests\n",
    "import urllib.parse\n",
    "from constants import HEADERS\n",
    "import pandas as pd\n",
    "from datetime import datetime\n",
    "\n",
    "url = 'https://stats.nba.com/stats/drafthistory'\n",
    "params = {\n",
    "    'College': '',\n",
    "    'LeagueID': '00',\n",
    "    'OverallPick': '',\n",
    "    'RoundNum': '',\n",
    "    'RoundPick': '',\n",
    "    'Season': '',\n",
    "    'TeamID': '0',\n",
    "    'TopX': '',\n",
    "}\n",
    "params_str = urllib.parse.urlencode(params, safe=\":+\")\n",
    "response = requests.get(url=url, params=params_str, headers=HEADERS).json()\n",
    "df = pd.json_normalize(response, 'resultSets')\n",
    "df = pd.DataFrame(df[\"rowSet\"][0], columns=df[\"headers\"][0])"
   ]
  },
  {
   "cell_type": "code",
   "execution_count": 3,
   "metadata": {},
   "outputs": [],
   "source": [
    "date_string = datetime.now().strftime(\"%Y%m%d\")\n",
    "df.to_csv(f'../data/alltime_draft_{date_string}.csv')"
   ]
  },
  {
   "attachments": {},
   "cell_type": "markdown",
   "metadata": {},
   "source": [
    "Player Season requesting"
   ]
  },
  {
   "cell_type": "code",
   "execution_count": 6,
   "metadata": {},
   "outputs": [],
   "source": [
    "from player_season import PlayerSeasonRequester\n",
    "import os\n",
    "RequestObj = PlayerSeasonRequester()"
   ]
  },
  {
   "cell_type": "code",
   "execution_count": 7,
   "metadata": {},
   "outputs": [
    {
     "name": "stdout",
     "output_type": "stream",
     "text": [
      "completed 1989-90 season\n",
      "completed 1990-91 season\n",
      "completed 1991-92 season\n",
      "completed 1992-93 season\n",
      "completed 1993-94 season\n",
      "completed 1994-95 season\n",
      "completed 1995-96 season\n",
      "completed 1996-97 season\n",
      "completed 1997-98 season\n",
      "completed 1998-99 season\n",
      "completed 1999-00 season\n",
      "completed 2000-01 season\n",
      "completed 2001-02 season\n",
      "completed 2002-03 season\n",
      "completed 2003-04 season\n",
      "completed 2004-05 season\n",
      "completed 2005-06 season\n",
      "completed 2006-07 season\n",
      "completed 2007-08 season\n",
      "completed 2008-09 season\n",
      "completed 2009-10 season\n",
      "completed 2010-11 season\n",
      "completed 2011-12 season\n",
      "completed 2012-13 season\n",
      "completed 2013-14 season\n",
      "completed 2014-15 season\n",
      "completed 2015-16 season\n",
      "completed 2016-17 season\n",
      "completed 2017-18 season\n",
      "completed 2018-19 season\n",
      "completed 2019-20 season\n",
      "completed 2020-21 season\n",
      "completed 2021-22 season\n"
     ]
    }
   ],
   "source": [
    "start_year = 1989\n",
    "end_year = 2022\n",
    "years = range(start_year, end_year)\n",
    "df_list = []\n",
    "base_dir = 'D:/Andy/python/nba_analysis_app/data'\n",
    "for year in years:\n",
    "    season_end_year = year + 1\n",
    "    season_id = f'{year}-{str(season_end_year)[-2:]}'\n",
    "    RequestObj.populate_season(season_id=season_id)\n",
    "    tmp_df = RequestObj.df\n",
    "    tmp_df['season_id'] = season_id\n",
    "    tmp_df['season_year_start'] = year\n",
    "    df_list.append(RequestObj.df)\n",
    "    outfile = '/'.join([base_dir, 'player_season_stats', f'{season_id}.csv'])\n",
    "    tmp_df.to_csv(outfile)\n",
    "    print('completed {season_id} season'.format(season_id=season_id))"
   ]
  },
  {
   "cell_type": "code",
   "execution_count": 8,
   "metadata": {},
   "outputs": [],
   "source": [
    "import pandas as pd\n",
    "df_tot = pd.concat(df_list)"
   ]
  },
  {
   "attachments": {},
   "cell_type": "markdown",
   "metadata": {},
   "source": [
    "Here we need to add a column that indicates what year it is for the player (e.g. 1, 2, 3, etc...)"
   ]
  },
  {
   "cell_type": "code",
   "execution_count": 15,
   "metadata": {},
   "outputs": [],
   "source": [
    "draft_df = pd.read_csv('D://Andy/python/nba_analysis_app/data/alltime_draft.csv')\n",
    "draft_df.rename(columns={'PERSON_ID': 'PLAYER_ID'}, inplace=True)"
   ]
  },
  {
   "cell_type": "code",
   "execution_count": 42,
   "metadata": {},
   "outputs": [],
   "source": [
    "# joine dataframes and calculate player year\n",
    "combo_df = pd.merge(df_tot, draft_df, on=['PLAYER_ID'], how='left')\n",
    "combo_df['player_year'] = (combo_df.season_year_start - combo_df.SEASON) + 1\n",
    "logic = (combo_df.player_year == 1) & (combo_df.TEAM_ID_x != combo_df.TEAM_ID_y)\n",
    "combo_df.loc[logic, 'TEAM_ID_x'] = combo_df.loc[logic, 'TEAM_ID_y']\n",
    "combo_df.loc[logic, 'TEAM_ABBREVIATION_x'] = combo_df.loc[logic, 'TEAM_ABBREVIATION_y']"
   ]
  },
  {
   "cell_type": "code",
   "execution_count": 44,
   "metadata": {},
   "outputs": [],
   "source": [
    "combo_df.to_csv('D:/Andy/python/nba_analysis_app/data/1989-21_combo.csv')"
   ]
  }
 ],
 "metadata": {
  "kernelspec": {
   "display_name": ".venv",
   "language": "python",
   "name": "python3"
  },
  "language_info": {
   "codemirror_mode": {
    "name": "ipython",
    "version": 3
   },
   "file_extension": ".py",
   "mimetype": "text/x-python",
   "name": "python",
   "nbconvert_exporter": "python",
   "pygments_lexer": "ipython3",
   "version": "3.13.2"
  },
  "orig_nbformat": 4
 },
 "nbformat": 4,
 "nbformat_minor": 2
}
